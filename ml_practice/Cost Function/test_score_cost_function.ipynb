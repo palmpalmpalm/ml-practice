{
 "cells": [
  {
   "cell_type": "code",
   "execution_count": 4,
   "id": "sporting-bangladesh",
   "metadata": {},
   "outputs": [
    {
     "name": "stdout",
     "output_type": "stream",
     "text": [
      "     name  math  cs\n",
      "0   david    92  98\n",
      "1   laura    56  68\n",
      "2  sanjay    88  81\n",
      "3     wei    70  80\n",
      "4    jeff    80  83\n",
      "5   aamir    49  52\n",
      "6  venkat    65  66\n",
      "7   virat    35  30\n",
      "8  arthur    66  68\n",
      "9    paul    67  73\n"
     ]
    }
   ],
   "source": [
    "import pandas as pd \n",
    "data = pd.read_csv('test_scores.txt')\n",
    "print(data)"
   ]
  },
  {
   "cell_type": "code",
   "execution_count": 12,
   "id": "transparent-porter",
   "metadata": {},
   "outputs": [
    {
     "data": {
      "text/plain": [
       "LinearRegression()"
      ]
     },
     "execution_count": 12,
     "metadata": {},
     "output_type": "execute_result"
    }
   ],
   "source": [
    "from sklearn.linear_model import LinearRegression\n",
    "model = LinearRegression()\n",
    "import numpy as np\n",
    "temp = np.array(data['math'])\n",
    "temp = temp.reshape(-1,1)\n",
    "model.fit(temp,data['cs'])"
   ]
  },
  {
   "cell_type": "code",
   "execution_count": 13,
   "id": "chinese-passing",
   "metadata": {},
   "outputs": [
    {
     "name": "stdout",
     "output_type": "stream",
     "text": [
      "[1.01773624]\n"
     ]
    }
   ],
   "source": [
    "print(model.coef_)"
   ]
  },
  {
   "cell_type": "code",
   "execution_count": 14,
   "id": "sunrise-perfume",
   "metadata": {},
   "outputs": [
    {
     "name": "stdout",
     "output_type": "stream",
     "text": [
      "1.9152193111569176\n"
     ]
    }
   ],
   "source": [
    "print(model.intercept_)"
   ]
  },
  {
   "cell_type": "code",
   "execution_count": 19,
   "id": "noticed-dispatch",
   "metadata": {},
   "outputs": [
    {
     "name": "stdout",
     "output_type": "stream",
     "text": [
      "[69.08581101]\n"
     ]
    }
   ],
   "source": [
    "print(model.predict([[66]]))"
   ]
  },
  {
   "cell_type": "code",
   "execution_count": null,
   "id": "designed-verification",
   "metadata": {},
   "outputs": [],
   "source": []
  }
 ],
 "metadata": {
  "kernelspec": {
   "display_name": "Python 3",
   "language": "python",
   "name": "python3"
  },
  "language_info": {
   "codemirror_mode": {
    "name": "ipython",
    "version": 3
   },
   "file_extension": ".py",
   "mimetype": "text/x-python",
   "name": "python",
   "nbconvert_exporter": "python",
   "pygments_lexer": "ipython3",
   "version": "3.8.8"
  }
 },
 "nbformat": 4,
 "nbformat_minor": 5
}
