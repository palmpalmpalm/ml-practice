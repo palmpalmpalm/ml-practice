{
 "cells": [
  {
   "cell_type": "code",
   "execution_count": 1,
   "id": "damaged-throat",
   "metadata": {},
   "outputs": [],
   "source": [
    "import numpy as np\n",
    "import pandas as pd\n",
    "from sklearn import neighbors, metrics\n",
    "from sklearn.model_selection import train_test_split\n",
    "from sklearn.preprocessing import LabelEncoder"
   ]
  },
  {
   "cell_type": "code",
   "execution_count": 7,
   "id": "harmful-anime",
   "metadata": {},
   "outputs": [
    {
     "name": "stdout",
     "output_type": "stream",
     "text": [
      "  buying  maint doors persons lug_boot safety  class\n",
      "0  vhigh  vhigh     2       2    small    low  unacc\n",
      "1  vhigh  vhigh     2       2    small    med  unacc\n",
      "2  vhigh  vhigh     2       2    small   high  unacc\n",
      "3  vhigh  vhigh     2       2      med    low  unacc\n",
      "4  vhigh  vhigh     2       2      med    med  unacc\n"
     ]
    }
   ],
   "source": [
    "data = pd.read_csv('car.data')\n",
    "print(data.head())"
   ]
  },
  {
   "cell_type": "code",
   "execution_count": 11,
   "id": "architectural-appraisal",
   "metadata": {},
   "outputs": [],
   "source": [
    "X  = data[[\n",
    "    'buying',\n",
    "    'maint',\n",
    "    'safety'\n",
    "]].values\n",
    "y = data[['class']]"
   ]
  },
  {
   "cell_type": "markdown",
   "id": "arbitrary-singles",
   "metadata": {},
   "source": [
    "#coverting the data"
   ]
  },
  {
   "cell_type": "code",
   "execution_count": 31,
   "id": "abroad-inquiry",
   "metadata": {},
   "outputs": [
    {
     "name": "stdout",
     "output_type": "stream",
     "text": [
      "(1728, 3)\n"
     ]
    }
   ],
   "source": [
    "Le = LabelEncoder()\n",
    "for i in range(len(X[0])):\n",
    "    X[:, i] = Le.fit_transform(X[:, i])\n",
    "print(X.shape)"
   ]
  },
  {
   "cell_type": "code",
   "execution_count": 35,
   "id": "forbidden-judgment",
   "metadata": {},
   "outputs": [
    {
     "name": "stdout",
     "output_type": "stream",
     "text": [
      "(1728,)\n"
     ]
    }
   ],
   "source": [
    "y = y.ravel()\n",
    "print(y.shape)"
   ]
  },
  {
   "cell_type": "code",
   "execution_count": 36,
   "id": "instant-validity",
   "metadata": {},
   "outputs": [],
   "source": [
    "knn = neighbors.KNeighborsClassifier(n_neighbors = 25, weights = 'uniform')"
   ]
  },
  {
   "cell_type": "markdown",
   "id": "several-router",
   "metadata": {},
   "source": [
    "#split dataset in to train and test"
   ]
  },
  {
   "cell_type": "code",
   "execution_count": 39,
   "id": "historical-bench",
   "metadata": {},
   "outputs": [],
   "source": [
    "X_train, X_test, y_train, y_test = train_test_split(X,y, test_size = 0.2)"
   ]
  },
  {
   "cell_type": "code",
   "execution_count": 47,
   "id": "nasty-edwards",
   "metadata": {},
   "outputs": [
    {
     "data": {
      "text/plain": [
       "KNeighborsClassifier(n_neighbors=25)"
      ]
     },
     "execution_count": 47,
     "metadata": {},
     "output_type": "execute_result"
    }
   ],
   "source": [
    "knn.fit(X_train,y_train)"
   ]
  },
  {
   "cell_type": "code",
   "execution_count": 48,
   "id": "subtle-resolution",
   "metadata": {},
   "outputs": [],
   "source": [
    "prediction = knn.predict(X_test)"
   ]
  },
  {
   "cell_type": "code",
   "execution_count": 49,
   "id": "russian-stability",
   "metadata": {},
   "outputs": [],
   "source": [
    "accuracy = metrics.accuracy_score(y_test, prediction)"
   ]
  },
  {
   "cell_type": "code",
   "execution_count": 50,
   "id": "authorized-sapphire",
   "metadata": {
    "scrolled": false
   },
   "outputs": [
    {
     "name": "stdout",
     "output_type": "stream",
     "text": [
      "[0 0 0 0 0 0 0 0 0 2 0 1 1 0 0 1 0 0 1 0 3 2 0 0 0 0 0 1 0 3 0 0 0 0 1 0 0\n",
      " 1 0 0 0 0 2 0 2 0 0 0 0 0 1 1 0 0 3 0 0 0 3 0 0 1 0 0 1 0 0 0 1 1 1 0 1 0\n",
      " 0 0 1 0 0 0 0 0 0 1 1 2 0 0 0 2 0 0 1 0 1 0 1 0 1 0 0 3 0 2 0 2 1 0 1 1 0\n",
      " 1 1 0 1 0 1 1 0 0 0 2 0 0 0 0 1 0 1 1 0 1 0 1 1 1 1 0 1 0 1 0 0 0 0 1 0 1\n",
      " 1 0 0 0 0 0 2 1 1 0 1 0 1 0 3 3 2 0 0 0 0 1 1 0 1 0 0 0 0 1 0 0 0 0 1 0 0\n",
      " 0 2 2 0 1 1 3 0 0 0 0 0 0 1 0 0 1 1 0 0 0 1 0 0 0 0 1 0 0 1 0 1 0 0 0 0 1\n",
      " 2 0 0 0 1 0 1 1 0 0 0 0 0 0 1 1 1 0 0 0 1 0 0 0 1 0 3 0 1 0 0 0 0 0 0 0 0\n",
      " 0 2 0 0 1 0 0 0 1 0 1 0 1 0 1 0 1 0 3 0 0 3 0 0 0 1 0 0 0 0 0 1 1 0 0 0 1\n",
      " 0 0 1 1 2 0 0 0 0 3 0 1 0 0 0 0 1 0 2 0 0 0 0 0 1 0 0 0 3 0 0 0 0 0 0 0 0\n",
      " 1 3 0 0 0 0 0 2 1 0 0 1 1]\n",
      "accuracy :  0.6994219653179191\n"
     ]
    }
   ],
   "source": [
    "print(prediction)\n",
    "print('accuracy : ',accuracy)"
   ]
  }
 ],
 "metadata": {
  "kernelspec": {
   "display_name": "Python 3",
   "language": "python",
   "name": "python3"
  },
  "language_info": {
   "codemirror_mode": {
    "name": "ipython",
    "version": 3
   },
   "file_extension": ".py",
   "mimetype": "text/x-python",
   "name": "python",
   "nbconvert_exporter": "python",
   "pygments_lexer": "ipython3",
   "version": "3.8.8"
  }
 },
 "nbformat": 4,
 "nbformat_minor": 5
}
